{
 "cells": [
  {
   "cell_type": "markdown",
   "metadata": {},
   "source": [
    "# Time/Space Complexity - Intro to Data Structures (User Defined)\n",
    "\n",
    "### Topics to discuss today:\n",
    "\n",
    "<ul>\n",
    "    <li>Time and Space Complexity - What is it/How do we measure it</li>\n",
    "    <li>Asymptotic Analysis</li>\n",
    "    <li><strong>Data Structures</strong></li>\n",
    "    <li>Some of the popular sorting algorithms</li>\n",
    "</ul>\n",
    "\n",
    "### Data Structures to discuss:\n",
    "- Arrays\n",
    "- Stacks\n",
    "- Queues\n",
    "- Linked Lists\n",
    "    - Singly Linked Lists\n",
    "    - Traversing A Linked List\n",
    "    - Finding a node in a linked list\n",
    "    - Adding to a linked list\n",
    "- Binary Search Trees\n",
    "    - Construction\n",
    "    - Traversal\n"
   ]
  },
  {
   "cell_type": "markdown",
   "metadata": {},
   "source": [
    "## Time and Space Complexity\n",
    "\n",
    "#### What is it?\n",
    "\n",
    "Time and space complexity is the measure of how much time a given action(function) will take to solve a problem. In the same fashion, we determine how much a given data structure will need in terms of memory allocation. A problem can have multiple solutions and finding the optimal solution for the problem needs to be analyzed in time and space.\n",
    "\n",
    "#### How do we measure Time and Space Complexity?\n",
    "\n",
    "In order to measure time and space complexity we use Asymptotic analysis. The reason for this is because we need a way to measure different algorithms (functions) based on the size of their inputs in a mathmatical way. For example, we could have a function that is computed as f(n) and another that is g(n^2). All things around the function staying constant, the only thing that changes is the size of the input. Below is the chart that shows the different Asymptotic analysis formats. "
   ]
  },
  {
   "cell_type": "markdown",
   "metadata": {},
   "source": [
    "<table style=\"text-align:center;\" class=\"table table-bordered\">\n",
    "<tbody><tr>\n",
    "<td>constant</td>\n",
    "<td>−</td>\n",
    "<td>Ο(1)</td>\n",
    "</tr>\n",
    "<tr>\n",
    "<td>logarithmic</td>\n",
    "<td>−</td>\n",
    "<td>Ο(log n)</td>\n",
    "</tr>\n",
    "<tr>\n",
    "<td>linear</td>\n",
    "<td>−</td>\n",
    "<td>Ο(n)</td>\n",
    "</tr>\n",
    "<tr>\n",
    "<td>Linear Logarithmic</td>\n",
    "<td>−</td>\n",
    "<td>Ο(n log n)</td>\n",
    "</tr>\n",
    "<tr>\n",
    "<td>quadratic</td>\n",
    "<td>−</td>\n",
    "<td>Ο(n<sup>2</sup>)</td>\n",
    "</tr>\n",
    "<tr>\n",
    "<td>cubic</td>\n",
    "<td>−</td>\n",
    "<td>Ο(n<sup>3</sup>)</td>\n",
    "</tr>\n",
    "<tr>\n",
    "<td>polynomial</td>\n",
    "<td>−</td>\n",
    "<td>n<sup>Ο(1)</sup></td>\n",
    "</tr>\n",
    "<tr>\n",
    "<td>exponential</td>\n",
    "<td>−</td>\n",
    "<td>2<sup>Ο(n)</sup></td>\n",
    "</tr>\n",
    "</tbody></table>"
   ]
  },
  {
   "cell_type": "markdown",
   "metadata": {},
   "source": [
    "## Arrays"
   ]
  },
  {
   "cell_type": "markdown",
   "metadata": {},
   "source": [
    "In python we benefit from the dynamic array which means the block of memory will expand as needed for the given input to the array. In traditional arrays (depending on the type of operating system) we will usually store our inputs in 4 or 8 consecutive blocks of memory. Below is a diagram of how that looks under the hood:\n",
    "\n",
    "<img src=\"http://www.mathcs.emory.edu/~cheung/Courses/170/Syllabus/09/FIGS/array02x.gif\" style=\"height:250px; width:350px;\">"
   ]
  },
  {
   "cell_type": "markdown",
   "metadata": {},
   "source": [
    "## Which in python looks like this:"
   ]
  },
  {
   "cell_type": "code",
   "execution_count": 4,
   "metadata": {},
   "outputs": [
    {
     "name": "stdout",
     "output_type": "stream",
     "text": [
      "[23, 4, 6, 15, 5, 7]\n"
     ]
    }
   ],
   "source": [
    "array = [23, 4, 6, 15, 5, 7]\n",
    "print(array)"
   ]
  },
  {
   "cell_type": "code",
   "execution_count": 3,
   "metadata": {},
   "outputs": [
    {
     "name": "stdout",
     "output_type": "stream",
     "text": [
      "[23, 4, 6, 15, 5, 7, 0, 1, 2, 3, 4, 5, 6, 7, 8, 9]\n"
     ]
    }
   ],
   "source": [
    "for i in range(10):\n",
    "    array.append(i)\n",
    "    \n",
    "print(array)"
   ]
  },
  {
   "cell_type": "markdown",
   "metadata": {},
   "source": [
    "### Let's take a look at some of the time and space analysis of arrays"
   ]
  },
  {
   "cell_type": "code",
   "execution_count": 7,
   "metadata": {},
   "outputs": [
    {
     "name": "stdout",
     "output_type": "stream",
     "text": [
      "23\n",
      "4\n",
      "6\n",
      "15\n",
      "5\n",
      "7\n"
     ]
    }
   ],
   "source": [
    "# Indexing an Array\n",
    "indexing = array[1]  # Constant Time and Space - 0(1)\n",
    "\n",
    "# Search Through an Array\n",
    "for i in array:  # Linear Time - o(n) / Constant Space o(1)\n",
    "    print(i)\n",
    "    \n",
    "# Make a copy of the array\n",
    "copy_array = array[:]   # Linear Time - o(n) AND Linear Space o(n)\n",
    "\n",
    "# Setting an index in an array\n",
    "array[2] = 77 # COnstant TIme and Space - o(1)"
   ]
  },
  {
   "cell_type": "code",
   "execution_count": 8,
   "metadata": {},
   "outputs": [
    {
     "name": "stdout",
     "output_type": "stream",
     "text": [
      "[23, 4, 77, 15, 5, 7]\n"
     ]
    }
   ],
   "source": [
    "print(array)"
   ]
  },
  {
   "cell_type": "code",
   "execution_count": 11,
   "metadata": {},
   "outputs": [
    {
     "name": "stdout",
     "output_type": "stream",
     "text": [
      "1\n",
      "10\n",
      "3\n",
      "4\n",
      "5\n",
      "1\n",
      "10\n",
      "3\n",
      "4\n",
      "5\n"
     ]
    },
    {
     "data": {
      "text/plain": [
       "[1, 10, 3, 4, 5]"
      ]
     },
     "execution_count": 11,
     "metadata": {},
     "output_type": "execute_result"
    }
   ],
   "source": [
    "def some_func(n):\n",
    "    n[1] = 10\n",
    "    for i in n:    # o(1)\n",
    "        print(i)   # O(n)\n",
    "        \n",
    "    copy = n[:]  # o(n)\n",
    "    \n",
    "    for x in copy:   # O(n)\n",
    "        print(x)\n",
    "        \n",
    "    return n\n",
    "\n",
    "some_func([1, 2, 3, 4, 5])    # Time complexity = O(n)"
   ]
  },
  {
   "cell_type": "markdown",
   "metadata": {},
   "source": [
    "## Stacks and Queues (Review)\n",
    "\n",
    "** Stacks ** as the name suggests is a data structure that allows for data to follow the Last In First Out priciple(LIFO). Think of a stack of pancakes for example. To get the first pancake you would  start with the top and go down.\n",
    "\n",
    "##### Searching through a stack will be Linear Time O(n) - Constant Space O(1)\n",
    "##### Selecting the last item will be done in Constant Time O(1) - Constant Space O(1)\n",
    "##### Adding to the stack should take Constant Time O(1) - Constant Space O(1)\n",
    "\n",
    "** Queues ** are similar but in this case follow the First In First Out principle(FIFO). Think of this as a line in a black friday sale. The first person camped out for the big screen tv is the first to get it.\n",
    "\n",
    "##### Searching through a queue will be Linear Time O(n) - Constant Space O(1)\n",
    "##### Selecting the first item will be done in Constant Time O(1) - Constant Space O(1)\n",
    "##### Adding to the queue should take Constant Time O(1) - Constant Space O(1)"
   ]
  },
  {
   "cell_type": "code",
   "execution_count": 16,
   "metadata": {},
   "outputs": [
    {
     "name": "stdout",
     "output_type": "stream",
     "text": [
      "40\n",
      "1\n"
     ]
    }
   ],
   "source": [
    "from collections import deque\n",
    "\n",
    "stack = deque([10, 20, 30])\n",
    "# Stack is 1st in last out\n",
    "stack.append(40)\n",
    "\n",
    "lifo = stack.pop()\n",
    "print(lifo)\n",
    "\n",
    "queue = deque([1, 2, 3])\n",
    "\n",
    "queue.append(4)\n",
    "\n",
    "fifo = queue.popleft()\n",
    "print(fifo)"
   ]
  },
  {
   "cell_type": "markdown",
   "metadata": {},
   "source": [
    "## Linked List (Data Structure)\n",
    "\n",
    "A linked list is created by using the node class. We create a Node object and create another class to use this node object. We pass the appropriate values thorugh the node object to point the to the next data elements.\n",
    "\n",
    "There are some advantages and disadvantages with this data structure. **Advantages** Linked Lists can save memory because they can be flexibile with memory management which saves memory. **Disadvantages** Finding or adding to the list requires traversing the entire list."
   ]
  },
  {
   "cell_type": "code",
   "execution_count": null,
   "metadata": {},
   "outputs": [],
   "source": [
    "class LinkedListNode():\n",
    "    def __init__(self, value):\n",
    "        self.value = value\n",
    "        self.next = None\n",
    "        \n",
    "    def traverse_lst(self):\n",
    "        node = self\n",
    "        while node != None:\n",
    "            print(node.value)\n",
    "            node = node.next\n",
    "            \n",
    "# Creating an instance of LinkeListNode           \n",
    "node1 = LinkedListNode('Monday')   \n",
    "node2 = LinkedListNode('Tuesday')\n",
    "node3 = LinkedListNode('Wednesday')\n",
    "\n",
    "# Connect te instances via the .next attribute\n",
    "node1.next = node2\n",
    "node2.next = node3\n",
    "\n",
    "node1.traverse_lst()"
   ]
  },
  {
   "cell_type": "code",
   "execution_count": null,
   "metadata": {},
   "outputs": [],
   "source": [
    "#P Complete Implementation of Linked List\n",
    "\n",
    "# 2 classes of this --  A Node Class and a LinkedList class\n",
    "\n",
    "class Node:\n",
    "    def __init__(self, value):\n",
    "        self.value = value\n",
    "        self.next = None\n",
    "        \n",
    "        \n",
    "class LinkedList:\n",
    "    def __init__(self):\n",
    "        self.head = None  # head refers to the beginning of the list\n",
    "        \n",
    "    # Mathod to push a node to the beginning of the Linked List\n",
    "    def push_on(self, new_value):\n",
    "        new_node = Node(new_value) # want to take new node and put to the beginning of the list\n",
    "        new_node.next = self.head\n",
    "        \n",
    "    # Method to append a node to the end of the Linked List\n",
    "    def append(self, new_value):\n",
    "        new_node = Node(new_value)\n",
    "        \n",
    "        # Check if the Linked list is empty\n",
    "        if self.head is None:\n",
    "            # Make this new node the beginning of the list\n",
    "            self.head = new_node\n",
    "            \n",
    "        # IF the list is not empty - traverse to the end \n",
    "        last = self.head\n",
    "        \n",
    "        #While our last.next is not None\n",
    "        while last.next:\n",
    "            # Continue to loop until last.next == None\n",
    "            last = last.next\n",
    "            \n",
    "        # CHange the last.next from None to our new_node\n",
    "        last.next = new_node\n",
    "        \n",
    "    # Method to add a new node after another node (alka not at beginning or end)\n",
    "    def insert_after(self, prev_node, new_value):\n",
    "        #Check if prev_node even exists\n",
    "        if prev_node is None:\n",
    "            print(\"The given node must not be empty!\")\n",
    "            return\n",
    "        \n",
    "        # Create new node\n",
    "        new_node = Node(new_value)\n",
    "        \n",
    "         # Point the new node.next to the prev_node's next node\n",
    "        new_node.next = prev_node.next\n",
    "            \n",
    "        # UPdate the prev_node's next to be our new_node\n",
    "        prev_node.next =  new_node\n",
    "        \n",
    "    def traverse(self):\n",
    "        node = self.head\n",
    "        while node:\n",
    "            print(node.value)\n",
    "            node = node.next\n",
    "            \n",
    "weekday_links = LinkedList()  \n",
    "    \n",
    "weekday_links.append('Tuesday')\n",
    "weekday_links.push_on('Monday')\n",
    "weekday_links.append('Thursday')\n",
    "weekday_links.insert_after(weekday_links.head.next, 'Wednesday')\n",
    "\n",
    "weekday_links.traverse"
   ]
  },
  {
   "cell_type": "markdown",
   "metadata": {},
   "source": [
    "## Binary Search Trees"
   ]
  },
  {
   "cell_type": "code",
   "execution_count": 13,
   "metadata": {},
   "outputs": [],
   "source": [
    "# A tree like structure\n",
    "# a node-based binary tree data structure which has the following properties\n",
    "#  : The left subtree of a node contains only nodes with keys lesser than the nodes key\n",
    "#  : The right subtree of a node contains only nodes with keys greater than the node's key\n",
    "#  : The left and right subtree each must also be a binary search tree\n",
    "\n",
    "class BST:\n",
    "    def __init__(self, value):\n",
    "        self.value = value\n",
    "        self.left = None\n",
    "        self.right = None\n",
    "        \n",
    "    def insert(self, value):\n",
    "        if value < self.value:\n",
    "            if self.left is None:\n",
    "                self.left = BST(value)\n",
    "            else: \n",
    "                self.left.insert(value)\n",
    "        else:\n",
    "            if self.right is None:\n",
    "                self.right = BST(value)\n",
    "            else:\n",
    "                self.right.insert(value)\n",
    "        return self\n",
    "    \n",
    "    def find(self, value):\n",
    "        if value < self.value:\n",
    "            if self.left is None:\n",
    "                return False\n",
    "            else:\n",
    "                return self.left.find(value)\n",
    "        elif value > self.value:\n",
    "            return self.right.find(value)\n",
    "        else:\n",
    "            return True\n",
    "        \n",
    "    def get_min_val(self):\n",
    "        if self.left is None:\n",
    "            return self.value\n",
    "        else:\n",
    "            return self.left.get_min_val()\n",
    "        \n",
    "    def get_max_val(self):\n",
    "        if self.right is None:\n",
    "            return self.value\n",
    "        else:\n",
    "            return self.right.get_max_val()\n",
    "    \n",
    "    def remove(self, value, parent = None):\n",
    "        if value < self.value:\n",
    "            if self.left is not None:\n",
    "                self.left.remove(value, self)\n",
    "            elif value > self.value:\n",
    "                if self.right is not None:\n",
    "                    self.right.remove(value, self)\n",
    "                    \n",
    "            else:\n",
    "                if self.left is not None and self.right is not None:\n",
    "                    self.value = self.right.get_min_val()\n",
    "                    self.right.remove(self.value, self)\n",
    "                elif parent is None:\n",
    "                    if self.left is not None:\n",
    "                        self.value = self.left.value\n",
    "                        self.right = self.left.right\n",
    "                        self.left = self.left.left\n",
    "                    elif self.right is not None:\n",
    "                        self.value = self.right.value\n",
    "                        self.right = self.right.right\n",
    "                        self.left = self.right.left\n",
    "                    else:\n",
    "                        self.value = None\n",
    "                elif parent.left == self:\n",
    "                    parent.left = self.left if self.left is not None else self.right\n",
    "                elif parent.right == self:\n",
    "                    parent.right = self.left if self.left is not None else self.right\n",
    "            return self\n",
    "        \n",
    "            \n",
    "    \n",
    "bst_example = BST(25)\n",
    "bst_example.insert(20)\n",
    "bst_example.insert(30)\n",
    "# bst_example.insert(15)\n",
    "bst_example.insert(15)\n",
    "bst_example.insert(27)\n",
    "# bst_example.find(27)\n",
    "# bst_example.get_max_val()\n",
    "bst_example.remove(30)"
   ]
  },
  {
   "cell_type": "markdown",
   "metadata": {},
   "source": [
    "# Homework"
   ]
  },
  {
   "cell_type": "markdown",
   "metadata": {},
   "source": [
    "#### Problem 1: Linked Lists\n",
    "\n",
    "Using the above examples as a guide, create your own interpretation of the a Linked List class. You can not use the code above exactly, but again it can be used as a guide. This problem requires you to think about how a linked list works and create one using your own logic.\n",
    "\n",
    "*Remember* A Linked List is a list of Nodes that point to the next node in the chain. The first Node starts out as Empty(None) and each node after points to the next.\n",
    "\n",
    "Your Linked List should have a traverse method and have the ability to add a new node"
   ]
  },
  {
   "cell_type": "code",
   "execution_count": 24,
   "metadata": {},
   "outputs": [
    {
     "name": "stdout",
     "output_type": "stream",
     "text": [
      "Jan\n",
      "Feb\n",
      "Mar\n"
     ]
    }
   ],
   "source": [
    "class Node:\n",
    "    def __init__(self, stat=None):\n",
    "        self.stat = stat\n",
    "        self.nextstat = None\n",
    "\n",
    "class LinkedList:\n",
    "    def __init__(self):\n",
    "        self.headstat = None\n",
    "        \n",
    "    def traverse_list(self):\n",
    "        if self.start_node is None:\n",
    "            print(\"None\")\n",
    "            return\n",
    "        else:\n",
    "            new = self.start_node\n",
    "            while new is not None:\n",
    "                print(new.item , \" \")\n",
    "                new = new.ref\n",
    "\n",
    "    def printlist(self):\n",
    "        printstat = self.headstat\n",
    "        while printstat is not None:\n",
    "            print (printstat.stat)\n",
    "            printstat = printstat.nextstat\n",
    "\n",
    "lst = LinkedList()\n",
    "lst.headstat = Node(\"Jan\")\n",
    "m2 = Node(\"Feb\")\n",
    "m3 = Node(\"Mar\")\n",
    "\n",
    "lst.headstat.nextstat = m2\n",
    "\n",
    "m2.nextstat = m3\n",
    "\n",
    "lst.printlist()"
   ]
  },
  {
   "cell_type": "markdown",
   "metadata": {},
   "source": [
    "#### Problem 2: Binary Search Tree\n",
    "\n",
    "Using the above examples as a guide, create your own interpretation of the a Binary Search Tree class. You can not use the code above exactly, but again it can be used as a guide. This problem requires you to think about how a Binary Search Tree works and create one using your own logic.\n",
    "\n",
    "*Remember* Binary Search Trees start with a head node and each node to the left of that will be smaller, each node to the right of it will be greater. The far left node should be the lowest number(if one exists) that is available. The far right node (if one exists) should be the greatest number"
   ]
  },
  {
   "cell_type": "code",
   "execution_count": 37,
   "metadata": {},
   "outputs": [
    {
     "ename": "SyntaxError",
     "evalue": "invalid syntax (<ipython-input-37-06b25ccc076c>, line 14)",
     "output_type": "error",
     "traceback": [
      "\u001b[1;36m  File \u001b[1;32m\"<ipython-input-37-06b25ccc076c>\"\u001b[1;36m, line \u001b[1;32m14\u001b[0m\n\u001b[1;33m    else data > self.data:\u001b[0m\n\u001b[1;37m    ^\u001b[0m\n\u001b[1;31mSyntaxError\u001b[0m\u001b[1;31m:\u001b[0m invalid syntax\n"
     ]
    }
   ],
   "source": [
    "class BST:\n",
    "    def __init__(self, data):\n",
    "        self.left = None\n",
    "        self.right = None\n",
    "        self.data = data\n",
    "        \n",
    "    def insert(self, data):\n",
    "        if self.data:\n",
    "            if data < self.data:\n",
    "                if self.left is None:\n",
    "                    self.left = BST(data)\n",
    "                else:\n",
    "                    self.left.insert(data)\n",
    "                else data > self.data:\n",
    "                    if self.right is None:\n",
    "                        self.right = BST(data)\n",
    "                    else:\n",
    "                        self.right.insert(data)\n",
    "            else:\n",
    "                self.data = data\n",
    "                \n",
    "    def find(self, value):\n",
    "        if value < self.data:\n",
    "            if self.left is None:\n",
    "                return str(value)+\"None\"\n",
    "            return self.left.find(value)\n",
    "        else if value > self.data:\n",
    "            if self.right is None:\n",
    "                return str(value)+\"None\"\n",
    "            return self.right.find(value)\n",
    "        else:\n",
    "            print(str(self.data) + ' is found')\n",
    "            \n",
    "    def print(self):\n",
    "        if self.left:\n",
    "            self.left.print()\n",
    "        print( self.data),\n",
    "        if self.right:\n",
    "            self.right.print()\n",
    "base = BST(12)\n",
    "base.insert(6)\n",
    "base.insert(14)\n",
    "base.insert(3)\n",
    "print(base.find(7))\n",
    "print(base.find(14))"
   ]
  }
 ],
 "metadata": {
  "kernelspec": {
   "display_name": "Python 3",
   "language": "python",
   "name": "python3"
  },
  "language_info": {
   "codemirror_mode": {
    "name": "ipython",
    "version": 3
   },
   "file_extension": ".py",
   "mimetype": "text/x-python",
   "name": "python",
   "nbconvert_exporter": "python",
   "pygments_lexer": "ipython3",
   "version": "3.8.8"
  }
 },
 "nbformat": 4,
 "nbformat_minor": 2
}
