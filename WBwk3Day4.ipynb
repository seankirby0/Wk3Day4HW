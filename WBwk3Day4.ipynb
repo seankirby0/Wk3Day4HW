{
 "cells": [
  {
   "cell_type": "code",
   "execution_count": null,
   "id": "9dedcbcb",
   "metadata": {},
   "outputs": [],
   "source": [
    "Task:\n",
    "\n",
    "    \n",
    "Given a list of integers, determine whether the sum of its elements is odd or even.\n",
    "Give your answer as a string matching \"odd\" or \"even\".\n",
    "If the input array is empty consider it as: [0] (array with a zero).\n",
    "\n",
    "    Examples:\n",
    "Input: [0]\n",
    "Output: \"even\"\n",
    "Input: [0, 1, 4]\n",
    "Output: \"odd\"\n",
    "Input: [0, -1, -5]\n",
    "Output: \"even\""
   ]
  },
  {
   "cell_type": "code",
   "execution_count": 5,
   "id": "b21776f3",
   "metadata": {},
   "outputs": [],
   "source": [
    "def my_list(x):\n",
    "    if sum(x) %2 == 1 :\n",
    "        \n",
    "        return \"odd\"\n",
    "    else:\n",
    "        return \"even\"\n",
    "    \n"
   ]
  },
  {
   "cell_type": "code",
   "execution_count": 6,
   "id": "d33f08cf",
   "metadata": {},
   "outputs": [
    {
     "data": {
      "text/plain": [
       "'odd'"
      ]
     },
     "execution_count": 6,
     "metadata": {},
     "output_type": "execute_result"
    }
   ],
   "source": [
    "my_list ([2,4,6,8,1])"
   ]
  },
  {
   "cell_type": "code",
   "execution_count": null,
   "id": "6fe390bd",
   "metadata": {},
   "outputs": [],
   "source": []
  }
 ],
 "metadata": {
  "kernelspec": {
   "display_name": "Python 3",
   "language": "python",
   "name": "python3"
  },
  "language_info": {
   "codemirror_mode": {
    "name": "ipython",
    "version": 3
   },
   "file_extension": ".py",
   "mimetype": "text/x-python",
   "name": "python",
   "nbconvert_exporter": "python",
   "pygments_lexer": "ipython3",
   "version": "3.8.8"
  }
 },
 "nbformat": 4,
 "nbformat_minor": 5
}
